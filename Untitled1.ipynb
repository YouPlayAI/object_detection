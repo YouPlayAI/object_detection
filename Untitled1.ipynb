{
 "cells": [
  {
   "cell_type": "code",
   "execution_count": 1,
   "metadata": {},
   "outputs": [],
   "source": [
    "import os\n",
    "import numpy as np\n",
    "import cv2\n",
    "import sys\n",
    "from PIL import Image\n",
    "\n",
    "from configs import train_config\n",
    "config = train_config.Config()\n",
    "sys.path.append(config.coco_api)\n",
    "from pycocotools.coco import COCO"
   ]
  },
  {
   "cell_type": "code",
   "execution_count": 2,
   "metadata": {},
   "outputs": [
    {
     "name": "stdout",
     "output_type": "stream",
     "text": [
      "loading annotations into memory...\n",
      "Done (t=0.29s)\n",
      "creating index...\n",
      "index created!\n"
     ]
    }
   ],
   "source": [
    "dataset_dir = config.dataset_dir\n",
    "train_annotation_path = os.path.join(dataset_dir, 'annotations', 'CNSI-SED-TRAIN.json')\n",
    "coco = COCO(train_annotation_path)"
   ]
  },
  {
   "cell_type": "code",
   "execution_count": 20,
   "metadata": {},
   "outputs": [],
   "source": [
    "num_examples = 10\n",
    "ids = coco.getImgIds()[:num_examples]"
   ]
  },
  {
   "cell_type": "code",
   "execution_count": 21,
   "metadata": {},
   "outputs": [
    {
     "data": {
      "text/plain": [
       "[1, 2, 3, 4, 5, 6, 7, 8, 9, 10]"
      ]
     },
     "execution_count": 21,
     "metadata": {},
     "output_type": "execute_result"
    }
   ],
   "source": [
    "ids"
   ]
  },
  {
   "cell_type": "code",
   "execution_count": 22,
   "metadata": {},
   "outputs": [],
   "source": [
    "def set_id_to_label(label_set):\n",
    "    id_to_label = {}\n",
    "    for idx, label in enumerate(label_set):\n",
    "        id_to_label[idx+1] = label\n",
    "    return id_to_label"
   ]
  },
  {
   "cell_type": "code",
   "execution_count": 23,
   "metadata": {},
   "outputs": [],
   "source": [
    "id_to_label = set_id_to_label(config.label_set)\n",
    "cat_ids = coco.getCatIds(id_to_label.values())"
   ]
  },
  {
   "cell_type": "code",
   "execution_count": 24,
   "metadata": {},
   "outputs": [
    {
     "data": {
      "text/plain": [
       "[1, 2]"
      ]
     },
     "execution_count": 24,
     "metadata": {},
     "output_type": "execute_result"
    }
   ],
   "source": [
    "cat_ids"
   ]
  },
  {
   "cell_type": "code",
   "execution_count": 25,
   "metadata": {},
   "outputs": [],
   "source": [
    "ann_ids = coco.getAnnIds(imgIds=ids, catIds=cat_ids, iscrowd=None)"
   ]
  },
  {
   "cell_type": "code",
   "execution_count": 26,
   "metadata": {},
   "outputs": [
    {
     "data": {
      "text/plain": [
       "[1,\n",
       " 2,\n",
       " 3,\n",
       " 4,\n",
       " 5,\n",
       " 6,\n",
       " 7,\n",
       " 8,\n",
       " 9,\n",
       " 10,\n",
       " 11,\n",
       " 12,\n",
       " 13,\n",
       " 14,\n",
       " 15,\n",
       " 16,\n",
       " 17,\n",
       " 18,\n",
       " 19,\n",
       " 20,\n",
       " 21,\n",
       " 22,\n",
       " 23,\n",
       " 24,\n",
       " 25,\n",
       " 26,\n",
       " 27,\n",
       " 28,\n",
       " 29,\n",
       " 30,\n",
       " 31,\n",
       " 32,\n",
       " 33,\n",
       " 34,\n",
       " 35,\n",
       " 36,\n",
       " 37,\n",
       " 38,\n",
       " 39,\n",
       " 40,\n",
       " 41,\n",
       " 42,\n",
       " 43,\n",
       " 44,\n",
       " 45,\n",
       " 46,\n",
       " 47,\n",
       " 48,\n",
       " 49,\n",
       " 50,\n",
       " 51,\n",
       " 52,\n",
       " 53,\n",
       " 54,\n",
       " 55,\n",
       " 56,\n",
       " 57,\n",
       " 58,\n",
       " 59,\n",
       " 60,\n",
       " 61,\n",
       " 62,\n",
       " 63,\n",
       " 64,\n",
       " 65,\n",
       " 66,\n",
       " 67,\n",
       " 68,\n",
       " 69,\n",
       " 70,\n",
       " 71,\n",
       " 72,\n",
       " 73,\n",
       " 74,\n",
       " 75,\n",
       " 76,\n",
       " 77,\n",
       " 78,\n",
       " 79,\n",
       " 80,\n",
       " 81,\n",
       " 82,\n",
       " 83,\n",
       " 84,\n",
       " 85,\n",
       " 86,\n",
       " 87,\n",
       " 88,\n",
       " 89,\n",
       " 90,\n",
       " 91,\n",
       " 92,\n",
       " 93,\n",
       " 94,\n",
       " 95,\n",
       " 96,\n",
       " 97,\n",
       " 98,\n",
       " 99,\n",
       " 100,\n",
       " 101,\n",
       " 102,\n",
       " 103,\n",
       " 104,\n",
       " 105,\n",
       " 106,\n",
       " 107,\n",
       " 108,\n",
       " 109,\n",
       " 110,\n",
       " 111,\n",
       " 112,\n",
       " 113,\n",
       " 114,\n",
       " 115,\n",
       " 116,\n",
       " 117,\n",
       " 118,\n",
       " 119,\n",
       " 120,\n",
       " 121,\n",
       " 122,\n",
       " 123,\n",
       " 124,\n",
       " 125,\n",
       " 126,\n",
       " 127,\n",
       " 128,\n",
       " 129,\n",
       " 130,\n",
       " 131,\n",
       " 132,\n",
       " 133,\n",
       " 134,\n",
       " 135,\n",
       " 136,\n",
       " 137,\n",
       " 138,\n",
       " 139,\n",
       " 140,\n",
       " 141,\n",
       " 142,\n",
       " 143,\n",
       " 144,\n",
       " 145,\n",
       " 146,\n",
       " 147,\n",
       " 148,\n",
       " 149,\n",
       " 150,\n",
       " 151,\n",
       " 152,\n",
       " 153,\n",
       " 154,\n",
       " 155,\n",
       " 156,\n",
       " 157,\n",
       " 158,\n",
       " 159,\n",
       " 160,\n",
       " 161,\n",
       " 162,\n",
       " 163,\n",
       " 164,\n",
       " 165,\n",
       " 166,\n",
       " 167,\n",
       " 168,\n",
       " 169,\n",
       " 170,\n",
       " 171,\n",
       " 172,\n",
       " 173,\n",
       " 174,\n",
       " 175,\n",
       " 176,\n",
       " 177,\n",
       " 178,\n",
       " 179,\n",
       " 180,\n",
       " 181,\n",
       " 182,\n",
       " 183,\n",
       " 184,\n",
       " 185]"
      ]
     },
     "execution_count": 26,
     "metadata": {},
     "output_type": "execute_result"
    }
   ],
   "source": [
    "ann_ids"
   ]
  },
  {
   "cell_type": "code",
   "execution_count": 27,
   "metadata": {},
   "outputs": [],
   "source": [
    "def _get_image(image_id, coco):\n",
    "    filename = coco.loadImgs(image_id)[0]['file_name']\n",
    "    image_path = os.path.join(config.image_dir, filename)\n",
    "    image = cv2.imread(image_path)\n",
    "    if image is None:\n",
    "        filename = os.path.splitext(filename)[0] + '.JPG'\n",
    "        image_path = os.path.join(self.image_dir, filename)\n",
    "        image = cv2.imread(image_path)\n",
    "        if image is None:\n",
    "            raise FileNotFoundError(\"Can't not find correct filepath\", filename)\n",
    "        #print(filename)\n",
    "    image = image[:,:,::-1]\n",
    "    image = cv2.resize(image, (config.SSD300['image_size'], config.SSD300['image_size']))\n",
    "    image = (image / 127.0) - 1.0\n",
    "    return filename, image"
   ]
  },
  {
   "cell_type": "code",
   "execution_count": 28,
   "metadata": {},
   "outputs": [],
   "source": [
    "def _get_annotation(image_id, cat_ids, coco):\n",
    "    ann_ids = coco.getAnnIds(imgIds=image_id, catIds=cat_ids, iscrowd=None)\n",
    "    boxes = []\n",
    "    for ann_id in ann_ids:\n",
    "        x, y, w, h = coco.loadAnns(ann_id)[0]['bbox']\n",
    "        xmin = x / w\n",
    "        ymin = y / h\n",
    "        xmax = (x+w)/w\n",
    "        ymax = (y+h)/h\n",
    "        box = [xmin, ymin, xmax, ymax]\n",
    "        boxes.append(box)\n",
    "    labels = [ coco.loadAnns(ann_id)[0]['category_id'] for ann_id in ann_ids]\n",
    "    return boxes, labels"
   ]
  },
  {
   "cell_type": "code",
   "execution_count": 29,
   "metadata": {},
   "outputs": [
    {
     "data": {
      "text/plain": [
       "('PartA_01975.jpg',\n",
       " array([[[-0.62204724, -0.63779528, -0.5511811 ],\n",
       "         [-0.62204724, -0.63779528, -0.5511811 ],\n",
       "         [-0.62204724, -0.63779528, -0.5511811 ],\n",
       "         ...,\n",
       "         [-0.19685039, -0.18110236, -0.06299213],\n",
       "         [-0.18897638, -0.1496063 , -0.1496063 ],\n",
       "         [-0.1023622 , -0.06299213, -0.08661417]],\n",
       " \n",
       "        [[-0.62992126, -0.63779528, -0.5511811 ],\n",
       "         [-0.62204724, -0.62992126, -0.54330709],\n",
       "         [-0.62204724, -0.63779528, -0.5511811 ],\n",
       "         ...,\n",
       "         [-0.11023622, -0.1023622 ,  0.03937008],\n",
       "         [-0.18897638, -0.16535433, -0.14173228],\n",
       "         [-0.07874016, -0.04724409, -0.06299213]],\n",
       " \n",
       "        [[-0.62992126, -0.65354331, -0.56692913],\n",
       "         [-0.60629921, -0.62992126, -0.54330709],\n",
       "         [-0.62204724, -0.63779528, -0.5511811 ],\n",
       "         ...,\n",
       "         [ 0.07086614,  0.07874016,  0.24409449],\n",
       "         [-0.19685039, -0.18110236, -0.09448819],\n",
       "         [-0.05511811, -0.02362205, -0.03937008]],\n",
       " \n",
       "        ...,\n",
       " \n",
       "        [[ 0.12598425,  0.11811024,  0.15748031],\n",
       "         [ 0.14173228,  0.13385827,  0.17322835],\n",
       "         [ 0.1496063 ,  0.14173228,  0.18110236],\n",
       "         ...,\n",
       "         [-0.12598425, -0.11023622, -0.21259843],\n",
       "         [-0.1023622 , -0.08661417, -0.18897638],\n",
       "         [-0.08661417, -0.07086614, -0.15748031]],\n",
       " \n",
       "        [[ 0.12598425,  0.11811024,  0.16535433],\n",
       "         [ 0.14173228,  0.13385827,  0.18110236],\n",
       "         [ 0.1496063 ,  0.14173228,  0.18897638],\n",
       "         ...,\n",
       "         [-0.11811024, -0.1023622 , -0.20472441],\n",
       "         [-0.1023622 , -0.09448819, -0.15748031],\n",
       "         [-0.08661417, -0.07874016, -0.11811024]],\n",
       " \n",
       "        [[ 0.12598425,  0.11811024,  0.16535433],\n",
       "         [ 0.14173228,  0.13385827,  0.18110236],\n",
       "         [ 0.1496063 ,  0.14173228,  0.18897638],\n",
       "         ...,\n",
       "         [-0.11023622, -0.09448819, -0.19685039],\n",
       "         [-0.1023622 , -0.09448819, -0.15748031],\n",
       "         [-0.08661417, -0.07874016, -0.11811024]]]))"
      ]
     },
     "execution_count": 29,
     "metadata": {},
     "output_type": "execute_result"
    }
   ],
   "source": [
    "_get_image(ids, coco)"
   ]
  },
  {
   "cell_type": "code",
   "execution_count": 30,
   "metadata": {},
   "outputs": [],
   "source": [
    "original_image = Image.open(os.path.join(config.image_dir, '{}'.format('PartA_01975.jpg')))"
   ]
  },
  {
   "cell_type": "code",
   "execution_count": null,
   "metadata": {},
   "outputs": [],
   "source": [
    "original_image"
   ]
  },
  {
   "cell_type": "code",
   "execution_count": 31,
   "metadata": {},
   "outputs": [],
   "source": [
    "boxes, labels = _get_annotation(ids, cat_ids, coco)"
   ]
  },
  {
   "cell_type": "code",
   "execution_count": 32,
   "metadata": {},
   "outputs": [
    {
     "data": {
      "text/plain": [
       "[2,\n",
       " 2,\n",
       " 2,\n",
       " 2,\n",
       " 2,\n",
       " 2,\n",
       " 2,\n",
       " 2,\n",
       " 2,\n",
       " 2,\n",
       " 2,\n",
       " 2,\n",
       " 2,\n",
       " 2,\n",
       " 2,\n",
       " 2,\n",
       " 2,\n",
       " 2,\n",
       " 2,\n",
       " 2,\n",
       " 2,\n",
       " 2,\n",
       " 2,\n",
       " 2,\n",
       " 2,\n",
       " 2,\n",
       " 2,\n",
       " 2,\n",
       " 2,\n",
       " 2,\n",
       " 2,\n",
       " 2,\n",
       " 2,\n",
       " 2,\n",
       " 2,\n",
       " 2,\n",
       " 2,\n",
       " 2,\n",
       " 2,\n",
       " 2,\n",
       " 2,\n",
       " 2,\n",
       " 2,\n",
       " 2,\n",
       " 2,\n",
       " 2,\n",
       " 2,\n",
       " 2,\n",
       " 2,\n",
       " 2,\n",
       " 2,\n",
       " 2,\n",
       " 2,\n",
       " 2,\n",
       " 2,\n",
       " 2,\n",
       " 2,\n",
       " 2,\n",
       " 2,\n",
       " 2,\n",
       " 2,\n",
       " 2,\n",
       " 2,\n",
       " 2,\n",
       " 2,\n",
       " 2,\n",
       " 2,\n",
       " 2,\n",
       " 2,\n",
       " 2,\n",
       " 2,\n",
       " 2,\n",
       " 2,\n",
       " 2,\n",
       " 2,\n",
       " 2,\n",
       " 2,\n",
       " 2,\n",
       " 2,\n",
       " 2,\n",
       " 2,\n",
       " 2,\n",
       " 2,\n",
       " 2,\n",
       " 2,\n",
       " 2,\n",
       " 2,\n",
       " 2,\n",
       " 2,\n",
       " 2,\n",
       " 2,\n",
       " 2,\n",
       " 2,\n",
       " 2,\n",
       " 2,\n",
       " 2,\n",
       " 2,\n",
       " 2,\n",
       " 2,\n",
       " 2,\n",
       " 2,\n",
       " 2,\n",
       " 2,\n",
       " 2,\n",
       " 2,\n",
       " 2,\n",
       " 2,\n",
       " 2,\n",
       " 2,\n",
       " 2,\n",
       " 2,\n",
       " 2,\n",
       " 2,\n",
       " 2,\n",
       " 2,\n",
       " 2,\n",
       " 2,\n",
       " 2,\n",
       " 2,\n",
       " 2,\n",
       " 2,\n",
       " 2,\n",
       " 2,\n",
       " 2,\n",
       " 2,\n",
       " 2,\n",
       " 2,\n",
       " 2,\n",
       " 2,\n",
       " 2,\n",
       " 2,\n",
       " 2,\n",
       " 2,\n",
       " 2,\n",
       " 2,\n",
       " 2,\n",
       " 1,\n",
       " 1,\n",
       " 2,\n",
       " 2,\n",
       " 2,\n",
       " 2,\n",
       " 2,\n",
       " 2,\n",
       " 2,\n",
       " 2,\n",
       " 2,\n",
       " 2,\n",
       " 2,\n",
       " 2,\n",
       " 2,\n",
       " 2,\n",
       " 2,\n",
       " 2,\n",
       " 2,\n",
       " 2,\n",
       " 2,\n",
       " 2,\n",
       " 2,\n",
       " 2,\n",
       " 2,\n",
       " 2,\n",
       " 2,\n",
       " 2,\n",
       " 2,\n",
       " 2,\n",
       " 2,\n",
       " 2,\n",
       " 2,\n",
       " 2,\n",
       " 2,\n",
       " 2,\n",
       " 2,\n",
       " 1,\n",
       " 1,\n",
       " 1,\n",
       " 1,\n",
       " 1,\n",
       " 1,\n",
       " 1,\n",
       " 2,\n",
       " 2,\n",
       " 2,\n",
       " 2,\n",
       " 2]"
      ]
     },
     "execution_count": 32,
     "metadata": {},
     "output_type": "execute_result"
    }
   ],
   "source": [
    "labels"
   ]
  },
  {
   "cell_type": "code",
   "execution_count": 13,
   "metadata": {},
   "outputs": [],
   "source": [
    "def generate(self, split, coco, ids, cat_ids, num_examples=-1):\n",
    "    \"\"\"\n",
    "        num_examples : The number of examples to be used.\n",
    "        It's used if you want to make model overfit a few examples\n",
    "    \"\"\"\n",
    "    for image_id in ids:\n",
    "        filename, image = self._get_image(image_id, coco)\n",
    "        boxes, labels = self._get_annotation(image_id, cat_ids, coco)\n",
    "        image = tf.constant(image, dtype=tf.float32)\n",
    "        gt_confs, gt_locs = box_utils.compute_target(self.default_boxes, boxes, labels)\n",
    "        yield filename, image, gt_confs, gt_locs"
   ]
  },
  {
   "cell_type": "code",
   "execution_count": 13,
   "metadata": {},
   "outputs": [],
   "source": [
    "from utils import box_utils,anchor"
   ]
  },
  {
   "cell_type": "code",
   "execution_count": 14,
   "metadata": {},
   "outputs": [],
   "source": [
    "default_boxes = anchor.generate_default_boxes(config)"
   ]
  },
  {
   "cell_type": "code",
   "execution_count": 17,
   "metadata": {},
   "outputs": [],
   "source": [
    "gt_confs, gt_locs = box_utils.compute_target(default_boxes, boxes, labels)"
   ]
  },
  {
   "cell_type": "code",
   "execution_count": 18,
   "metadata": {},
   "outputs": [
    {
     "data": {
      "text/plain": [
       "<tf.Tensor: id=143, shape=(8732,), dtype=int32, numpy=array([2, 0, 0, ..., 0, 0, 0], dtype=int32)>"
      ]
     },
     "execution_count": 18,
     "metadata": {},
     "output_type": "execute_result"
    }
   ],
   "source": [
    "gt_confs"
   ]
  },
  {
   "cell_type": "code",
   "execution_count": 19,
   "metadata": {},
   "outputs": [
    {
     "data": {
      "text/plain": [
       "<tf.Tensor: id=198, shape=(8732, 4), dtype=float32, numpy=\n",
       "array([[1.3086842e+03, 6.2176111e+02, 1.1512925e+01, 1.1512925e+01],\n",
       "       [1.5559235e+03, 3.2798138e+02, 9.7800570e+00, 9.7800570e+00],\n",
       "       [1.5559235e+03, 6.5596277e+02, 9.7800570e+00, 1.3245793e+01],\n",
       "       ...,\n",
       "       [2.1875658e+02, 4.2206676e+01, 8.2599528e-02, 8.2599528e-02],\n",
       "       [2.1517241e+02, 6.5234764e+01, 0.0000000e+00, 2.2596705e+00],\n",
       "       [3.3811081e+02, 4.1515148e+01, 2.2596705e+00, 0.0000000e+00]],\n",
       "      dtype=float32)>"
      ]
     },
     "execution_count": 19,
     "metadata": {},
     "output_type": "execute_result"
    }
   ],
   "source": [
    "gt_locs"
   ]
  },
  {
   "cell_type": "code",
   "execution_count": null,
   "metadata": {},
   "outputs": [],
   "source": []
  }
 ],
 "metadata": {
  "kernelspec": {
   "display_name": "Python 3",
   "language": "python",
   "name": "python3"
  },
  "language_info": {
   "codemirror_mode": {
    "name": "ipython",
    "version": 3
   },
   "file_extension": ".py",
   "mimetype": "text/x-python",
   "name": "python",
   "nbconvert_exporter": "python",
   "pygments_lexer": "ipython3",
   "version": "3.6.8"
  }
 },
 "nbformat": 4,
 "nbformat_minor": 4
}
